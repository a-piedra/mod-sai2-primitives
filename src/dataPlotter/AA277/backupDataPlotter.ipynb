{
 "cells": [
  {
   "cell_type": "code",
   "execution_count": null,
   "metadata": {},
   "outputs": [],
   "source": [
    "import numpy as np\n",
    "from mpl_toolkits.mplot3d import Axes3D\n",
    "import matplotlib.pyplot as plt\n",
    "from matplotlib.ticker import MaxNLocator\n",
    "%matplotlib inline\n",
    "%config InlineBackend.figure_format = 'svg'"
   ]
  },
  {
   "cell_type": "code",
   "execution_count": null,
   "metadata": {},
   "outputs": [],
   "source": [
    "# Read data and split into different variables\n",
    "filename = 'dataLeaderFollower_2019-03-18_17-31-52.csv'\n",
    "data = np.genfromtxt(filename, dtype=float, delimiter=',')\n",
    "curr_time = data[:, 0]\n",
    "pos1 = data[:, 1:4] #3 columns\n",
    "pos2 = data[:, 4:7] #3 columns\n",
    "pos3 = data[:, 7:10] #3 columns\n",
    "followPosErrorNorm = data[:, 10] #1 column\n",
    "vec1Norm = data[:, 11] #1 column\n",
    "vec2Norm = data[:, 12] #1 column\n",
    "weight1 = data[:, 13] #1 column\n",
    "weight2 = data[:, 14] #1 column\n",
    "numCollisions = data[:, 15] #1 column\n",
    "lastCollisionPoint = data[:, 16:] #last 3 columns"
   ]
  },
  {
   "cell_type": "code",
   "execution_count": null,
   "metadata": {},
   "outputs": [],
   "source": [
    "fig = plt.figure(figsize=(9,6))\n",
    "ax = fig.add_subplot(111, projection='3d')\n",
    "\n",
    "ax.scatter(curr_time, pos1[:,0], pos1[:,1], color='blue', label='Guidance 1')\n",
    "ax.scatter(curr_time, pos2[:,0], pos2[:,1], color='green', label='Guidance 2')\n",
    "ax.scatter(curr_time, pos3[:,0], pos3[:,1], color='red', label='Follower')\n",
    "\n",
    "ax.set_xlabel('time (s)')\n",
    "ax.set_ylabel('x-position (m)')\n",
    "ax.set_zlabel('y-position (m)')\n",
    "\n",
    "# Shrink current axis by 20%\n",
    "box = ax.get_position()\n",
    "ax.set_position([box.x0, box.y0, box.width * 0.8, box.height])\n",
    "\n",
    "# Put a legend to the right of the current axis\n",
    "ax.legend(loc='center left', bbox_to_anchor=(1, 0.5))\n",
    "\n",
    "plt.show()"
   ]
  },
  {
   "cell_type": "code",
   "execution_count": null,
   "metadata": {},
   "outputs": [],
   "source": [
    "fig = plt.figure(figsize=(9,6))\n",
    "ax = fig.add_subplot(111, projection='3d')\n",
    "\n",
    "ax.scatter(pos1[:,0], pos1[:,1], pos1[:,2], color='blue', label='Guidance 1', alpha=0.01)\n",
    "ax.scatter(pos2[:,0], pos2[:,1], pos2[:,2], color='green', label='Guidance 2', alpha=0.01)\n",
    "sc = ax.scatter(pos3[:,0], pos3[:,1], pos3[:,2], color='red', label='Follower')\n",
    "# sc = ax.scatter(pos3[:,0], pos3[:,1], pos3[:,2], c=curr_time, cmap='cool', label='Follower')\n",
    "\n",
    "ax.set_xlabel('time (s)')\n",
    "ax.set_ylabel('x-position (m)')\n",
    "ax.set_zlabel('y-position (m)')\n",
    "\n",
    "# Shrink current axis by 20%\n",
    "box = ax.get_position()\n",
    "ax.set_position([box.x0, box.y0, box.width * 0.8, box.height])\n",
    "\n",
    "# Put a legend to the right of the current axis\n",
    "ax.legend(loc='center left', bbox_to_anchor=(1, 0.5))\n",
    "\n",
    "# cbar = plt.colorbar(sc)\n",
    "# cbar.ax.get_yaxis().labelpad = 15\n",
    "# cbar.ax.set_ylabel('time (s)', rotation=90)\n",
    "\n",
    "plt.show()"
   ]
  },
  {
   "cell_type": "code",
   "execution_count": null,
   "metadata": {},
   "outputs": [],
   "source": [
    "fig = plt.figure(figsize=(9,6))\n",
    "ax = fig.add_subplot(111)\n",
    "\n",
    "# ax.scatter(pos1[:,0], pos1[:,1], c=curr_time, cmap='hot')\n",
    "# ax.scatter(pos2[:,0], pos2[:,1], c=curr_time, cmap='hot')\n",
    "# sc = ax.scatter(pos3[:,0], pos3[:,1], c=curr_time, cmap='cool')\n",
    "\n",
    "ax.scatter(pos1[:,0], pos1[:,1], color='green')\n",
    "ax.scatter(pos2[:,0], pos2[:,1], color='blue')\n",
    "sc = ax.scatter(pos3[:,0], pos3[:,1], color='red')\n",
    "\n",
    "ax.set_xlabel('x-position (m)')\n",
    "ax.set_ylabel('y-position (m)')\n",
    "\n",
    "# cbar = plt.colorbar(sc)\n",
    "# cbar.ax.get_yaxis().labelpad = 15\n",
    "# cbar.ax.set_ylabel('time (s)', rotation=90)\n",
    "\n",
    "ax.yaxis.set_major_locator(MaxNLocator(integer=True))\n",
    "\n",
    "plt.show()"
   ]
  },
  {
   "cell_type": "markdown",
   "metadata": {},
   "source": [
    "Plot norm of guidance vectors over time"
   ]
  },
  {
   "cell_type": "code",
   "execution_count": null,
   "metadata": {},
   "outputs": [],
   "source": [
    "fig = plt.figure()\n",
    "ax = fig.add_subplot(111)\n",
    "\n",
    "ax.scatter(curr_time, vec1Norm)\n",
    "ax.scatter(curr_time, vec2Norm)\n",
    "\n",
    "plt.show()"
   ]
  },
  {
   "cell_type": "markdown",
   "metadata": {},
   "source": [
    "Plot follower position error over time"
   ]
  },
  {
   "cell_type": "code",
   "execution_count": null,
   "metadata": {},
   "outputs": [],
   "source": [
    "fig = plt.figure()\n",
    "ax = fig.add_subplot(111)\n",
    "\n",
    "ax.scatter(curr_time, followPosErrorNorm)\n",
    "\n",
    "plt.show()"
   ]
  }
 ],
 "metadata": {
  "kernelspec": {
   "display_name": "Python 3",
   "language": "python",
   "name": "python3"
  },
  "language_info": {
   "codemirror_mode": {
    "name": "ipython",
    "version": 3
   },
   "file_extension": ".py",
   "mimetype": "text/x-python",
   "name": "python",
   "nbconvert_exporter": "python",
   "pygments_lexer": "ipython3",
   "version": "3.6.5"
  }
 },
 "nbformat": 4,
 "nbformat_minor": 2
}
